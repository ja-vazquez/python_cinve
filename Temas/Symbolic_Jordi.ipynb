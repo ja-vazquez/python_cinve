{
 "cells": [
  {
   "cell_type": "code",
   "execution_count": 30,
   "metadata": {
    "collapsed": false
   },
   "outputs": [],
   "source": [
    "from sympy import init_printing, Symbol, Function, Eq, dsolve, diff, sympify\n",
    "init_printing()    ##sympy es una biblioteca que contiene muchas caracteristicas matematicas muy simples de manejar con tan solo llamarlas \n",
    "#llamamos la caracteristica: symbol, function, eq, dsolve, diff, etc\n",
    "x = Symbol(\"x\")    #nombramos a nuestras variables y funciones\n",
    "f = Function(\"f\")\n",
    "\n"
   ]
  },
  {
   "cell_type": "code",
   "execution_count": 3,
   "metadata": {
    "collapsed": false
   },
   "outputs": [
    {
     "data": {
      "image/png": "[encoded data removed]",
      "text/latex": [
       "$$\\frac{d^{2}}{d x^{2}}  f{\\left (x \\right )} = f{\\left (x \\right )}$$"
      ],
      "text/plain": [
       "  2             \n",
       " d              \n",
       "───(f(x)) = f(x)\n",
       "  2             \n",
       "dx              "
      ]
     },
     "execution_count": 3,
     "metadata": {},
     "output_type": "execute_result"
    }
   ],
   "source": [
    "eq = Eq(f(x).diff(x).diff(x), f(x))      #eq sirve para plasmar nuestra ecuacion en lenguaje de python\n",
    "eq"
   ]
  },
  {
   "cell_type": "code",
   "execution_count": 5,
   "metadata": {
    "collapsed": false
   },
   "outputs": [
    {
     "data": {
      "image/png": "[encoded data removed]",
      "text/latex": [
       "$$f{\\left (x \\right )} = C_{1} e^{- x} + C_{2} e^{x}$$"
      ],
      "text/plain": [
       "           -x       x\n",
       "f(x) = C₁⋅ℯ   + C₂⋅ℯ "
      ]
     },
     "execution_count": 5,
     "metadata": {},
     "output_type": "execute_result"
    }
   ],
   "source": [
    "dsolve(eq,f(x))"
   ]
  },
  {
   "cell_type": "code",
   "execution_count": 35,
   "metadata": {
    "collapsed": false
   },
   "outputs": [
    {
     "data": {
      "image/png": "[encoded data removed]",
      "text/latex": [
       "$$\\frac{d^{2}}{d t^{2}}  x{\\left (t \\right )} = - w_{0}^{2} x{\\left (t \\right )}$$"
      ],
      "text/plain": [
       "  2                  \n",
       " d             2     \n",
       "───(x(t)) = -w₀ ⋅x(t)\n",
       "  2                  \n",
       "dt                   "
      ]
     },
     "execution_count": 35,
     "metadata": {},
     "output_type": "execute_result"
    }
   ],
   "source": [
    "w_0 = Symbol(\"w_0\")   #definimos w_0 como una variable\n",
    "t = Symbol(\"t\")       #definimos t como una variable\n",
    "x= Function(\"x\")      #definimos x como una funcion \n",
    "\n",
    "eq = Eq(x(t).diff(t).diff(t),-(w_0)**2*x(t))    # x(t).diff(t).diff(t) significa que escogemos a x como funcion de t, la cual estará derivada 2 veces\n",
    "eq"
   ]
  },
  {
   "cell_type": "code",
   "execution_count": null,
   "metadata": {
    "collapsed": false
   },
   "outputs": [],
   "source": []
  },
  {
   "cell_type": "code",
   "execution_count": 10,
   "metadata": {
    "collapsed": false
   },
   "outputs": [],
   "source": [
    "y = dsolve(eq,x(t))       #resolvemos la ecuación\n"
   ]
  },
  {
   "cell_type": "code",
   "execution_count": 25,
   "metadata": {
    "collapsed": false
   },
   "outputs": [
    {
     "data": {
      "image/png": "[encoded data removed]",
      "text/latex": [
       "$$x{\\left (t \\right )} = C_{1} e^{- i t w_{0}} + C_{2} e^{i t w_{0}}$$"
      ],
      "text/plain": [
       "           -ⅈ⋅t⋅w₀       ⅈ⋅t⋅w₀\n",
       "x(t) = C₁⋅ℯ        + C₂⋅ℯ      "
      ]
     },
     "execution_count": 25,
     "metadata": {},
     "output_type": "execute_result"
    }
   ],
   "source": [
    "y"
   ]
  },
  {
   "cell_type": "code",
   "execution_count": 33,
   "metadata": {
    "collapsed": false
   },
   "outputs": [],
   "source": [
    "s =sympify(y)"
   ]
  },
  {
   "cell_type": "code",
   "execution_count": 36,
   "metadata": {
    "collapsed": false
   },
   "outputs": [
    {
     "data": {
      "image/png": "[encoded data removed]",
      "text/latex": [
       "$$x{\\left (0 \\right )} = C_{1} + C_{2}$$"
      ],
      "text/plain": [
       "x(0) = C₁ + C₂"
      ]
     },
     "execution_count": 36,
     "metadata": {},
     "output_type": "execute_result"
    }
   ],
   "source": [
    "s.subs(t, 0)"
   ]
  },
  {
   "cell_type": "code",
   "execution_count": 52,
   "metadata": {
    "collapsed": true
   },
   "outputs": [],
   "source": [
    "import numpy as np\n",
    "from random import choice\n",
    "from numpy.random import choice"
   ]
  },
  {
   "cell_type": "code",
   "execution_count": 41,
   "metadata": {
    "collapsed": false
   },
   "outputs": [
    {
     "name": "stdout",
     "output_type": "stream",
     "text": [
      "0.974763410588\n"
     ]
    }
   ],
   "source": [
    "#numero aleatorio\n",
    "import random\n",
    "Num_aleatorio = random.random()\n",
    "print(Num_aleatorio)"
   ]
  },
  {
   "cell_type": "code",
   "execution_count": 40,
   "metadata": {
    "collapsed": false
   },
   "outputs": [
    {
     "name": "stdout",
     "output_type": "stream",
     "text": [
      "9\n"
     ]
    }
   ],
   "source": [
    "Num_aleatorio= random.randint(1,10)\n",
    "print(Num_aleatorio)"
   ]
  },
  {
   "cell_type": "code",
   "execution_count": 44,
   "metadata": {
    "collapsed": false
   },
   "outputs": [
    {
     "data": {
      "text/plain": [
       "array([ 0.41282913,  0.38168189,  0.68277554,  0.76879815,  0.87134465,\n",
       "        0.39603583,  0.19359256,  0.95029569,  0.22209341,  0.54381304])"
      ]
     },
     "execution_count": 44,
     "metadata": {},
     "output_type": "execute_result"
    }
   ],
   "source": [
    "np.random.random(10)"
   ]
  },
  {
   "cell_type": "code",
   "execution_count": 45,
   "metadata": {
    "collapsed": false
   },
   "outputs": [
    {
     "data": {
      "image/png": "[encoded data removed]",
      "text/latex": [
       "$$\\left [ 6, \\quad 5, \\quad 1, \\quad 6, \\quad 4, \\quad 2, \\quad 2, \\quad 1, \\quad 2, \\quad 4\\right ]$$"
      ],
      "text/plain": [
       "[6, 5, 1, 6, 4, 2, 2, 1, 2, 4]"
      ]
     },
     "execution_count": 45,
     "metadata": {},
     "output_type": "execute_result"
    }
   ],
   "source": [
    "[random.randint(1,6) for _ in range(10)]"
   ]
  },
  {
   "cell_type": "code",
   "execution_count": 50,
   "metadata": {
    "collapsed": false
   },
   "outputs": [
    {
     "name": "stdout",
     "output_type": "stream",
     "text": [
      "Gato\n"
     ]
    }
   ],
   "source": [
    "\n",
    "\n",
    "mascota = [\"Gato\", \"Perro\", \"Conejo\", \"Serpiente\", \"Tarantula\", \"Pez\"]\n",
    "\n",
    "print(choice(mascota))"
   ]
  },
  {
   "cell_type": "code",
   "execution_count": 53,
   "metadata": {
    "collapsed": false
   },
   "outputs": [
    {
     "name": "stdout",
     "output_type": "stream",
     "text": [
      "['Serpiente' 'Conejo']\n",
      "['Tarantula' 'Serpiente' 'Tarantula' 'Gato']\n"
     ]
    }
   ],
   "source": [
    "\n",
    "mascota = [\"Gato\", \"Perro\", \"Conejo\", \"Serpiente\", \"Tarantula\", \"Pez\"]\n",
    "\n",
    "x1 = choice(mascota, size=2)\n",
    "print(x1)\n",
    "x2 = choice(mascota, size=(4))\n",
    "print(x2)"
   ]
  },
  {
   "cell_type": "code",
   "execution_count": 54,
   "metadata": {
    "collapsed": false
   },
   "outputs": [
    {
     "data": {
      "text/plain": [
       "array([[ 0.19484708, -0.48973079,  0.00993608,  0.01289778,  0.04009965],\n",
       "       [ 0.33550305, -1.64067097,  0.03556769, -0.08910752,  0.95166782],\n",
       "       [ 0.65180766, -0.14436095,  0.69669089, -0.98202884, -0.73863057],\n",
       "       [ 0.73657212, -0.94899993, -0.76146501, -0.23693783, -0.34971017],\n",
       "       [-1.25918241, -1.67547834,  0.46613553,  0.20671549,  0.18998488]])"
      ]
     },
     "execution_count": 54,
     "metadata": {},
     "output_type": "execute_result"
    }
   ],
   "source": [
    "datos=np.random.randn(5,5)\n",
    "datos"
   ]
  },
  {
   "cell_type": "code",
   "execution_count": 60,
   "metadata": {
    "collapsed": false
   },
   "outputs": [
    {
     "name": "stdout",
     "output_type": "stream",
     "text": [
      "-0.191515105271\n",
      "0.00993607582293\n"
     ]
    },
    {
     "data": {
      "image/png": "[encoded data removed]",
      "text/latex": [
       "$$0.496530894093$$"
      ],
      "text/plain": [
       "0.496530894093"
      ]
     },
     "execution_count": 60,
     "metadata": {},
     "output_type": "execute_result"
    }
   ],
   "source": [
    "\n",
    "print(np.mean(datos) )#media aritmetica)\n",
    "\n",
    "\n",
    "# In[37]:\n",
    "\n",
    "\n",
    "print(np.median(datos) ) #mediana\n",
    "\n",
    "\n",
    "# In[39]:\n",
    "\n",
    "\n",
    "np.std(datos) #desviacion estandar\n",
    "\n",
    "\n",
    "# In[40]:\n",
    "\n",
    "\n",
    "np.var(datos) #varianza"
   ]
  },
  {
   "cell_type": "code",
   "execution_count": 62,
   "metadata": {
    "collapsed": false
   },
   "outputs": [
    {
     "data": {
      "text/plain": [
       "array([[ 0.19484708, -0.48973079,  0.00993608,  0.01289778,  0.04009965],\n",
       "       [ 0.33550305, -1.64067097,  0.03556769, -0.08910752,  0.95166782],\n",
       "       [ 0.65180766, -0.14436095,  0.69669089, -0.98202884, -0.73863057],\n",
       "       [ 0.73657212, -0.94899993, -0.76146501, -0.23693783, -0.34971017],\n",
       "       [-1.25918241, -1.67547834,  0.46613553,  0.20671549,  0.18998488]])"
      ]
     },
     "execution_count": 62,
     "metadata": {},
     "output_type": "execute_result"
    }
   ],
   "source": [
    "datos"
   ]
  },
  {
   "cell_type": "code",
   "execution_count": null,
   "metadata": {
    "collapsed": true
   },
   "outputs": [],
   "source": []
  }
 ],
 "metadata": {
  "kernelspec": {
   "display_name": "Python 2",
   "language": "python",
   "name": "python2"
  },
  "language_info": {
   "codemirror_mode": {
    "name": "ipython",
    "version": 2
   },
   "file_extension": ".py",
   "mimetype": "text/x-python",
   "name": "python",
   "nbconvert_exporter": "python",
   "pygments_lexer": "ipython2",
   "version": "2.7.6"
  }
 },
 "nbformat": 4,
 "nbformat_minor": 1
}
