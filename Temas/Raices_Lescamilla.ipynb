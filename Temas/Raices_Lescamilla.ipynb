{
 "cells": [
  {
   "cell_type": "markdown",
   "metadata": {},
   "source": [
    "# Con iteracion"
   ]
  },
  {
   "cell_type": "code",
   "execution_count": 10,
   "metadata": {
    "collapsed": false
   },
   "outputs": [
    {
     "name": "stdout",
     "output_type": "stream",
     "text": [
      "(1, 0.88033289957158201)\n",
      "(2, 0.86568416317608177)\n",
      "(3, 0.86547407595297698)\n",
      "(4, 0.86547403310161619)\n",
      "(5, 0.86547403310161442)\n",
      "0.865474033102\n"
     ]
    }
   ],
   "source": [
    "\n",
    "def f(x):\n",
    "    return x**3-np.cos(x)\n",
    "def df(x):\n",
    "    return 3*x**2+np.sin(x)\n",
    "\n",
    "x0=1\n",
    "i=1\n",
    "for iteracion in range(1,6):\n",
    "    x1=x0-f(x0)/df(x0)\n",
    "    x0=x1\n",
    "    print (i, x1)\n",
    "    i=i+1\n",
    "    \n",
    "print(x0)"
   ]
  },
  {
   "cell_type": "markdown",
   "metadata": {},
   "source": [
    "# Con while"
   ]
  },
  {
   "cell_type": "code",
   "execution_count": 12,
   "metadata": {
    "collapsed": false
   },
   "outputs": [
    {
     "name": "stdout",
     "output_type": "stream",
     "text": [
      "(1, 0.88033289957158201)\n",
      "(2, 0.86568416317608177)\n",
      "(3, 0.86547407595297698)\n",
      "(4, 0.86547403310161619)\n",
      "0.865474033102\n"
     ]
    }
   ],
   "source": [
    "def f(x):\n",
    "    return x**3-np.cos(x)\n",
    "def df(x):\n",
    "    return 3*x**2+np.sin(x)\n",
    "\n",
    "x0=1\n",
    "i=1\n",
    "error = 10\n",
    "while error > 1e-6:\n",
    "    x1=x0-f(x0)/df(x0)\n",
    "    error = abs(x1-x0)\n",
    "    x0=x1\n",
    "    print (i, x1)\n",
    "    i=i+1\n",
    "    \n",
    "print(x0)"
   ]
  },
  {
   "cell_type": "markdown",
   "metadata": {},
   "source": [
    "# Con polinomio e iteracion"
   ]
  },
  {
   "cell_type": "code",
   "execution_count": 1,
   "metadata": {
    "collapsed": false
   },
   "outputs": [
    {
     "name": "stdout",
     "output_type": "stream",
     "text": [
      "(1, -8)\n",
      "(2, -6)\n",
      "(3, -5)\n",
      "(4, -4)\n",
      "(5, -3)\n",
      "(6, -2)\n",
      "(7, -1)\n",
      "(8, -1)\n",
      "(9, -1)\n",
      "(10, -1)\n",
      "(11, -1)\n",
      "(12, -1)\n",
      "(13, -1)\n",
      "(14, -1)\n",
      "(15, -1)\n",
      "(16, -1)\n",
      "(17, -1)\n",
      "(18, -1)\n",
      "(19, -1)\n",
      "-1\n"
     ]
    }
   ],
   "source": [
    "def f(x):\n",
    "    return x**7-2*x**4+x**2+x+3\n",
    "def df(x):\n",
    "    return 7*x**6-8*x**3+2*x+1\n",
    "\n",
    "x0=-10\n",
    "i=1\n",
    "for iteracion in range(1,20):\n",
    "    x1=x0-f(x0)/df(x0)\n",
    "    x0=x1\n",
    "    print (i, x1)\n",
    "    i=i+1\n",
    "    \n",
    "print(x0)"
   ]
  },
  {
   "cell_type": "code",
   "execution_count": null,
   "metadata": {
    "collapsed": true
   },
   "outputs": [],
   "source": []
  }
 ],
 "metadata": {
  "anaconda-cloud": {},
  "kernelspec": {
   "display_name": "Python [default]",
   "language": "python",
   "name": "python2"
  },
  "language_info": {
   "codemirror_mode": {
    "name": "ipython",
    "version": 2
   },
   "file_extension": ".py",
   "mimetype": "text/x-python",
   "name": "python",
   "nbconvert_exporter": "python",
   "pygments_lexer": "ipython2",
   "version": "2.7.12"
  }
 },
 "nbformat": 4,
 "nbformat_minor": 2
}
