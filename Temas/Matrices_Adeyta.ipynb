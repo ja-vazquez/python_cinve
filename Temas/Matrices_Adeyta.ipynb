{
 "cells": [
  {
   "cell_type": "markdown",
   "metadata": {},
   "source": [
    "# matrices"
   ]
  },
  {
   "cell_type": "code",
   "execution_count": 71,
   "metadata": {
    "collapsed": false
   },
   "outputs": [
    {
     "name": "stdout",
     "output_type": "stream",
     "text": [
      "[[ 1 -1  0]\n",
      " [ 0  1  0]\n",
      " [ 2  0  1]]\n"
     ]
    }
   ],
   "source": [
    "from numpy import *\n",
    "a = matrix ([[1,-1,0],[0,1,0],[2,0,1]])\n",
    "print (a)"
   ]
  },
  {
   "cell_type": "code",
   "execution_count": 72,
   "metadata": {
    "collapsed": false
   },
   "outputs": [
    {
     "data": {
      "text/plain": [
       "matrix([[ 1,  0,  2],\n",
       "        [-1,  1,  0],\n",
       "        [ 0,  0,  1]])"
      ]
     },
     "execution_count": 72,
     "metadata": {},
     "output_type": "execute_result"
    }
   ],
   "source": [
    "a.T #transpuesta\n"
   ]
  },
  {
   "cell_type": "code",
   "execution_count": 73,
   "metadata": {
    "collapsed": false
   },
   "outputs": [
    {
     "data": {
      "text/plain": [
       "matrix([[ 1,  0,  2],\n",
       "        [-1,  1,  0],\n",
       "        [ 0,  0,  1]])"
      ]
     },
     "execution_count": 73,
     "metadata": {},
     "output_type": "execute_result"
    }
   ],
   "source": [
    "a.H # transpuesta conjugada "
   ]
  },
  {
   "cell_type": "code",
   "execution_count": 74,
   "metadata": {
    "collapsed": false
   },
   "outputs": [
    {
     "name": "stdout",
     "output_type": "stream",
     "text": [
      "[[ 1.  1.  0.]\n",
      " [ 0.  1.  0.]\n",
      " [-2. -2.  1.]]\n"
     ]
    }
   ],
   "source": [
    "b = a.I #inversa\n",
    "print (b)"
   ]
  },
  {
   "cell_type": "code",
   "execution_count": 75,
   "metadata": {
    "collapsed": false
   },
   "outputs": [
    {
     "name": "stdout",
     "output_type": "stream",
     "text": [
      "[[ 1.  0.  0.]\n",
      " [ 0.  1.  0.]\n",
      " [ 0.  0.  1.]]\n"
     ]
    }
   ],
   "source": [
    "c = a*b producto de matrices\n",
    "print (c)"
   ]
  },
  {
   "cell_type": "code",
   "execution_count": 76,
   "metadata": {
    "collapsed": false
   },
   "outputs": [
    {
     "data": {
      "text/plain": [
       "1.0"
      ]
     },
     "execution_count": 76,
     "metadata": {},
     "output_type": "execute_result"
    }
   ],
   "source": [
    "linalg.det(a) #determinante"
   ]
  },
  {
   "cell_type": "code",
   "execution_count": 77,
   "metadata": {
    "collapsed": false
   },
   "outputs": [
    {
     "name": "stdout",
     "output_type": "stream",
     "text": [
      "[[1]\n",
      " [4]\n",
      " [7]]\n"
     ]
    }
   ],
   "source": [
    "d = matrix ([[1],[4],[7]]) #vector columna\n",
    "print (d)"
   ]
  },
  {
   "cell_type": "code",
   "execution_count": 78,
   "metadata": {
    "collapsed": false
   },
   "outputs": [
    {
     "name": "stdout",
     "output_type": "stream",
     "text": [
      "[[ 5.]\n",
      " [ 4.]\n",
      " [-3.]]\n"
     ]
    }
   ],
   "source": [
    "e = linalg.solve(a,d) #sistema de ecuaciones\n",
    "print (e)"
   ]
  },
  {
   "cell_type": "code",
   "execution_count": 83,
   "metadata": {
    "collapsed": false
   },
   "outputs": [
    {
     "name": "stdout",
     "output_type": "stream",
     "text": [
      "(array([ 1.,  1.,  1.]), matrix([[  0.00000000e+00,   1.11022302e-16,   1.11022302e-16],\n",
      "        [  0.00000000e+00,   0.00000000e+00,   2.46519033e-32],\n",
      "        [  1.00000000e+00,  -1.00000000e+00,  -1.00000000e+00]]))\n"
     ]
    }
   ],
   "source": [
    "d = linalg.eig(a) #autovalores, autovectores\n",
    "print (d)"
   ]
  },
  {
   "cell_type": "code",
   "execution_count": 84,
   "metadata": {
    "collapsed": false
   },
   "outputs": [
    {
     "name": "stdout",
     "output_type": "stream",
     "text": [
      "(array([ 4.,  2.,  2.]), matrix([[ 0.70710678, -0.70710678,  0.40824829],\n",
      "        [ 0.        ,  0.        ,  0.81649658],\n",
      "        [ 0.70710678,  0.70710678,  0.40824829]]))\n"
     ]
    }
   ],
   "source": [
    "f = matrix ([[3,-1,1],[0,2,0],[1,-1,3]])\n",
    "g = linalg.eig(f)\n",
    "print (g)"
   ]
  },
  {
   "cell_type": "code",
   "execution_count": null,
   "metadata": {
    "collapsed": true
   },
   "outputs": [],
   "source": []
  }
 ],
 "metadata": {
  "kernelspec": {
   "display_name": "Python 2",
   "language": "python",
   "name": "python2"
  },
  "language_info": {
   "codemirror_mode": {
    "name": "ipython",
    "version": 2
   },
   "file_extension": ".py",
   "mimetype": "text/x-python",
   "name": "python",
   "nbconvert_exporter": "python",
   "pygments_lexer": "ipython2",
   "version": "2.7.6"
  }
 },
 "nbformat": 4,
 "nbformat_minor": 2
}
