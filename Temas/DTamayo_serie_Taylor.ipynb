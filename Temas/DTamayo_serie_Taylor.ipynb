{
 "cells": [
  {
   "cell_type": "markdown",
   "metadata": {},
   "source": [
    "# Serie de Taylor"
   ]
  },
  {
   "cell_type": "markdown",
   "metadata": {},
   "source": [
    "Calcula la serie de Taylor de una función y la grafica"
   ]
  },
  {
   "cell_type": "code",
   "execution_count": 1,
   "metadata": {
    "collapsed": true
   },
   "outputs": [],
   "source": [
    "# importa las librerias necesarias\n",
    "import sympy as sy\n",
    "import numpy as np\n",
    "import matplotlib.pyplot as plt\n",
    "\n",
    "# importa algunas funciones\n",
    "from sympy import sin, cos, ln"
   ]
  },
  {
   "cell_type": "code",
   "execution_count": 2,
   "metadata": {
    "collapsed": true
   },
   "outputs": [],
   "source": [
    "# se define la funcion factorial\n",
    "def factorial(n):\n",
    "    if n <= 0:\n",
    "        return 1\n",
    "    else:\n",
    "        return n * factorial(n - 1)"
   ]
  },
  {
   "cell_type": "code",
   "execution_count": 3,
   "metadata": {
    "collapsed": true
   },
   "outputs": [],
   "source": [
    "# aproximación de Taylor en x0 de la función 'function'\n",
    "def taylor(function, x0, n, x = sy.Symbol('x')):\n",
    "    i = 0\n",
    "    p = 0\n",
    "    while i <= n:\n",
    "        p = p + (function.diff(x, i).subs(x, x0))/(factorial(i))*(x - x0)**i\n",
    "        i += 1\n",
    "    return p\n",
    "\n",
    "# define la gráfica\n",
    "# x0: alrededor de donde se hace la expansión\n",
    "# n: orden de la expansión\n",
    "# by: cada cuanto será mostrado\n",
    "\n",
    "def plot(f, x0 = 0, n = 5, by = 2, x_lims = [-5, 5], y_lims = [-5, 5], npoints = 800, x = sy.Symbol('x')):\n",
    "    x1 = np.linspace(x_lims[0], x_lims[1], npoints)\n",
    "    \n",
    "    for j in range(1, n + 1, by):\n",
    "        func = taylor(f, x0, j)\n",
    "        taylor_lambda = sy.lambdify(x, func, \"numpy\")\n",
    "        print('expansión de Taylor para n = ' + str(j), ':' , func)\n",
    "        plt.plot(x1, taylor_lambda(x1), label = 'orden '+ str(j))\n",
    "\n",
    "    func_lambda = sy.lambdify(x, f, \"numpy\")\n",
    "    plt.plot(x1, func_lambda(x1), label = 'f(x)')\n",
    "    \n",
    "    plt.xlim(x_lims)\n",
    "    plt.ylim(y_lims)\n",
    "    plt.xlabel('x')\n",
    "    plt.ylabel('y')\n",
    "    plt.legend()\n",
    "    plt.grid(True)\n",
    "    plt.title('Serie de Taylor')\n",
    "    plt.show()"
   ]
  },
  {
   "cell_type": "code",
   "execution_count": 4,
   "metadata": {},
   "outputs": [
    {
     "name": "stdout",
     "output_type": "stream",
     "text": [
      "('expansi\\xc3\\xb3n de Taylor para n = 1', ':', x)\n",
      "('expansi\\xc3\\xb3n de Taylor para n = 3', ':', -x**3/6 + x)\n",
      "('expansi\\xc3\\xb3n de Taylor para n = 5', ':', x**5/120 - x**3/6 + x)\n"
     ]
    },
    {
     "data": {
      "image/png": "[encoded data removed]",
      "text/plain": [
       "<matplotlib.figure.Figure at 0xaf8bbe8c>"
      ]
     },
     "metadata": {},
     "output_type": "display_data"
    }
   ],
   "source": [
    "# define la variable, la función a ser aproximada y la grafica\n",
    "x = sy.Symbol('x')\n",
    "f = sin(x)\n",
    "plot(f)"
   ]
  },
  {
   "cell_type": "markdown",
   "metadata": {},
   "source": [
    "Serie de Taylor simbólico"
   ]
  },
  {
   "cell_type": "code",
   "execution_count": 5,
   "metadata": {
    "collapsed": true
   },
   "outputs": [],
   "source": [
    "from sympy import pprint, init_printing, symbols, Function\n",
    "init_printing()\n",
    "\n",
    "x, h = symbols(\"x,h\")\n",
    "f = Function(\"f\")"
   ]
  },
  {
   "cell_type": "code",
   "execution_count": 6,
   "metadata": {},
   "outputs": [
    {
     "name": "stdout",
     "output_type": "stream",
     "text": [
      "                                              ⎛  2        ⎞│                 ⎛\n",
      "                                            2 ⎜ d         ⎟│               3 ⎜\n",
      "                                    (-h + x) ⋅⎜────(f(ξ₁))⎟│       (-h + x) ⋅⎜\n",
      "                                              ⎜   2       ⎟│                 ⎜\n",
      "                ⎛ d        ⎞│                 ⎝dξ₁        ⎠│ξ₁=h             ⎝\n",
      "f(h) + (-h + x)⋅⎜───(f(ξ₁))⎟│     + ──────────────────────────── + ───────────\n",
      "                ⎝dξ₁       ⎠│ξ₁=h                2                            \n",
      "\n",
      "  3        ⎞│                 ⎛  4        ⎞│                 ⎛  5        ⎞│   \n",
      " d         ⎟│               4 ⎜ d         ⎟│               5 ⎜ d         ⎟│   \n",
      "────(f(ξ₁))⎟│       (-h + x) ⋅⎜────(f(ξ₁))⎟│       (-h + x) ⋅⎜────(f(ξ₁))⎟│   \n",
      "   3       ⎟│                 ⎜   4       ⎟│                 ⎜   5       ⎟│   \n",
      "dξ₁        ⎠│ξ₁=h             ⎝dξ₁        ⎠│ξ₁=h             ⎝dξ₁        ⎠│ξ₁=\n",
      "───────────────── + ──────────────────────────── + ───────────────────────────\n",
      "  6                              24                            120            \n",
      "\n",
      "              ⎛  6        ⎞│                          \n",
      "            6 ⎜ d         ⎟│                          \n",
      "    (-h + x) ⋅⎜────(f(ξ₁))⎟│                          \n",
      "              ⎜   6       ⎟│                          \n",
      "h             ⎝dξ₁        ⎠│ξ₁=h    ⎛        7       ⎞\n",
      "─ + ──────────────────────────── + O⎝(-h + x) ; x → h⎠\n",
      "                720                                   \n"
     ]
    }
   ],
   "source": [
    "pprint(f(x).series(x, x0=h, n=7))"
   ]
  },
  {
   "cell_type": "code",
   "execution_count": 7,
   "metadata": {},
   "outputs": [
    {
     "name": "stdout",
     "output_type": "stream",
     "text": [
      "     3     5        \n",
      "    x     x     ⎛ 7⎞\n",
      "x - ── + ─── + O⎝x ⎠\n",
      "    6    120        \n"
     ]
    }
   ],
   "source": [
    "pprint((sin(x)).series(x, x0=0, n=7))"
   ]
  },
  {
   "cell_type": "code",
   "execution_count": null,
   "metadata": {
    "collapsed": true
   },
   "outputs": [],
   "source": []
  }
 ],
 "metadata": {
  "kernelspec": {
   "display_name": "Python 3",
   "language": "python",
   "name": "python3"
  },
  "language_info": {
   "codemirror_mode": {
    "name": "ipython",
    "version": 2
   },
   "file_extension": ".py",
   "mimetype": "text/x-python",
   "name": "python",
   "nbconvert_exporter": "python",
   "pygments_lexer": "ipython2",
   "version": "2.7.14"
  }
 },
 "nbformat": 4,
 "nbformat_minor": 2
}
