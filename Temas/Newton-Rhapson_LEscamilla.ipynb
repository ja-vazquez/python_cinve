{
 "cells": [
  {
   "cell_type": "markdown",
   "metadata": {},
   "source": [
    "# Con iteracion"
   ]
  },
  {
   "cell_type": "code",
   "execution_count": 53,
   "metadata": {
    "collapsed": false
   },
   "outputs": [
    {
     "name": "stdout",
     "output_type": "stream",
     "text": [
      "(1, 0.88033289957158201)\n",
      "(2, 0.86568416317608177)\n",
      "(3, 0.86547407595297698)\n",
      "(4, 0.86547403310161619)\n",
      "(5, 0.86547403310161442)\n",
      "0.865474033102\n"
     ]
    }
   ],
   "source": [
    "import numpy as np\n",
    "def f(x):\n",
    "    return x**3-np.cos(x)\n",
    "def df(x):\n",
    "    return 3*x**2+np.sin(x)\n",
    "\n",
    "x0=1\n",
    "i=1\n",
    "for iteracion in range(1,6):\n",
    "    x1=x0-f(x0)/df(x0)\n",
    "    x0=x1\n",
    "    print (i, x1)\n",
    "    i=i+1\n",
    "    \n",
    "print(x0)"
   ]
  },
  {
   "cell_type": "markdown",
   "metadata": {},
   "source": [
    "# Con while"
   ]
  },
  {
   "cell_type": "code",
   "execution_count": 30,
   "metadata": {
    "collapsed": false
   },
   "outputs": [
    {
     "name": "stdout",
     "output_type": "stream",
     "text": [
      "(1, 13.338741205535074)\n",
      "(2, 8.8996396261917923)\n",
      "(3, 5.9357051825046492)\n",
      "(4, 3.959666017470358)\n",
      "(5, 2.6042120565573796)\n",
      "(6, 1.7162590776467557)\n",
      "(7, 1.1870274927647908)\n",
      "(8, 0.93517394119648212)\n",
      "(9, 0.86978447579588614)\n",
      "(10, 0.86549196580651089)\n",
      "(11, 0.86547403341378504)\n",
      "(12, 0.86547403310161442)\n",
      "0.865474033102\n"
     ]
    }
   ],
   "source": [
    "def f(x):\n",
    "    return x**3-np.cos(x)\n",
    "def df(x):\n",
    "    return 3*x**2+np.sin(x)\n",
    "\n",
    "x0=20\n",
    "i=1\n",
    "error = 10\n",
    "while error > 1e-6:\n",
    "    x1=x0-f(x0)/df(x0)\n",
    "    error = abs(x1-x0)\n",
    "    x0=x1\n",
    "    print (i, x1)\n",
    "    i=i+1\n",
    "    \n",
    "print(x0)"
   ]
  },
  {
   "cell_type": "markdown",
   "metadata": {},
   "source": [
    "# Con polinomio e iteracion"
   ]
  },
  {
   "cell_type": "code",
   "execution_count": 52,
   "metadata": {
    "collapsed": false
   },
   "outputs": [
    {
     "name": "stdout",
     "output_type": "stream",
     "text": [
      "(1, 17.142876913369456, 17.142876913369456, 435087077.21867067, 177662616.95029366)\n",
      "(2, 14.693925723258376, 14.693925723258376, 147892749.4080594, 70455885.41088818)\n",
      "(3, 12.594842750337506, 12.594842750337506, 50270834.93935069, 27940883.563741837)\n",
      "(4, 10.795657165362453, 10.795657165362453, 17087660.274528548, 11080669.097029984)\n",
      "(5, 9.2535426842876, 9.2535426842876, 5808234.6295150705, 4394376.78696608)\n",
      "(6, 7.931800168547358, 7.931800168547358, 1974225.1860671258, 1742763.7581654785)\n",
      "(7, 6.7989873149307005, 6.7989873149307005, 671015.9866684033, 691190.4508994005)\n",
      "(8, 5.828175311096946, 5.828175311096946, 228054.93681272003, 274150.722750444)\n",
      "(9, 4.996315615361927, 4.996315615361927, 77498.42559627719, 108752.52809338752)\n",
      "(10, 4.2837029804654945, 4.2837029804654945, 26330.01045542607, 43151.25835847229)\n",
      "(11, 3.6735235452171953, 3.6735235452171953, 8942.103648769858, 17129.014660515644)\n",
      "(12, 3.1514792930523328, 3.1514792930523328, 3034.7910057732315, 6804.5115902633015)\n",
      "(13, 2.7054824032658904, 2.7054824032658904, 1028.7075114767429, 2706.6446806663644)\n",
      "(14, 2.3254149644827993, 2.3254149644827993, 347.96607414486374, 1079.0862076580836)\n",
      "(15, 2.002951317301128, 2.002951317301128, 117.26893566151878, 431.9162512939317)\n",
      "(16, 1.731442812330071, 1.731442812330071, 39.2671110839827, 174.07780578642516)\n",
      "(17, 1.5058706269122513, 1.5058706269122513, 12.997642529327514, 71.03101704353014)\n",
      "(18, 1.3228851781559405, 1.3228851781559405, 4.210004383214643, 29.66286453885852)\n",
      "(19, 1.180956728268725, 1.180956728268725, 1.3041925346233654, 12.982954325803451)\n",
      "(20, 1.0805025094603526, 1.0805025094603526, 0.363957276127473, 6.295258089304979)\n",
      "(21, 1.02268799717756, 1.02268799717756, 0.07669470763276798, 3.7786387558931933)\n",
      "(22, 1.0023910827098421, 1.0023910827098421, 0.0072651768255023175, 3.0770825743937444)\n",
      "(23, 1.0000300226310648, 1.0000300226310648, 9.008231582119386e-05, 3.0009608134323402)\n",
      "(24, 1.0000000048063007, 1.0000000048063007, 1.441890251641098e-08, 3.0000001538016248)\n",
      "(25, 1.0, 1.0, 0.0, 3.0)\n",
      "(26, 1.0, 1.0, 0.0, 3.0)\n",
      "(27, 1.0, 1.0, 0.0, 3.0)\n",
      "(28, 1.0, 1.0, 0.0, 3.0)\n",
      "(29, 1.0, 1.0, 0.0, 3.0)\n",
      "1.0\n",
      "0.0\n"
     ]
    }
   ],
   "source": [
    "def f(x):\n",
    "    return x**7-2*x**3+x**2\n",
    "def df(x):\n",
    "    return 7*x**6-6*x**2+2*x\n",
    "\n",
    "x0=20.0\n",
    "i=1\n",
    "for iteracion in range(1,30):\n",
    "    x1=x0-f(x0)/df(x0)\n",
    "    x0=x1\n",
    "    print (i, x0, x1, f(x0), df(x0))\n",
    "    i=i+1\n",
    "    \n",
    "print(x0)\n",
    "print f(x0)"
   ]
  },
  {
   "cell_type": "code",
   "execution_count": 52,
   "metadata": {
    "collapsed": false
   },
   "outputs": [
    {
     "data": {
      "image/png": "[encoded data removed]",
      "text/plain": [
       "<matplotlib.figure.Figure at 0x7f08550>"
      ]
     },
     "metadata": {},
     "output_type": "display_data"
    }
   ],
   "source": [
    "import numpy as np\n",
    "import matplotlib.pyplot as plt\n",
    "\n",
    "x=np.linspace(-2, 2, 400)\n",
    "plt.plot(x, x**2+3)\n",
    "plt.grid()\n",
    "plt.show()\n"
   ]
  },
  {
   "cell_type": "markdown",
   "metadata": {},
   "source": [
    "# Con función"
   ]
  },
  {
   "cell_type": "code",
   "execution_count": 2,
   "metadata": {
    "collapsed": false
   },
   "outputs": [
    {
     "name": "stdout",
     "output_type": "stream",
     "text": [
      "9.31426209184e-09\n"
     ]
    }
   ],
   "source": [
    "from scipy.optimize import newton\n",
    "import numpy as np\n",
    "\n",
    "def f(x):\n",
    "    return x**7-2*x**3+x**2\n",
    "x0=0.1\n",
    "def fprime(x):\n",
    "    return 7*x**6-6*x**2+2*x\n",
    "\n",
    "print newton(f, x0, fprime)"
   ]
  },
  {
   "cell_type": "code",
   "execution_count": null,
   "metadata": {
    "collapsed": true
   },
   "outputs": [],
   "source": [
    "newton"
   ]
  },
  {
   "cell_type": "markdown",
   "metadata": {},
   "source": [
    "# Con Bisect"
   ]
  },
  {
   "cell_type": "code",
   "execution_count": 10,
   "metadata": {
    "collapsed": false
   },
   "outputs": [
    {
     "name": "stdout",
     "output_type": "stream",
     "text": [
      "0.865474033102\n"
     ]
    }
   ],
   "source": [
    "import scipy.optimize as optimize\n",
    "import numpy as np\n",
    "\n",
    "def func(x):\n",
    "    return x**3-np.cos(x)\n",
    "\n",
    "print(optimize.bisect(func, 0, 10))"
   ]
  },
  {
   "cell_type": "code",
   "execution_count": 7,
   "metadata": {
    "collapsed": false
   },
   "outputs": [
    {
     "data": {
      "text/plain": [
       "0"
      ]
     },
     "execution_count": 7,
     "metadata": {},
     "output_type": "execute_result"
    }
   ],
   "source": [
    "int(np.cos(3.141592393/2))"
   ]
  },
  {
   "cell_type": "code",
   "execution_count": 4,
   "metadata": {
    "collapsed": false
   },
   "outputs": [
    {
     "name": "stdout",
     "output_type": "stream",
     "text": [
      "0.865474033102 0.0\n"
     ]
    }
   ],
   "source": [
    "def samesign(a, b):\n",
    "        return a * b > 0\n",
    "\n",
    "def bisect(func, low, high):\n",
    "    \n",
    "\n",
    "    assert not samesign(func(low), func(high))\n",
    "\n",
    "    for i in range(54):\n",
    "        midpoint = (low + high) / 2.0\n",
    "        if samesign(func(low), func(midpoint)):\n",
    "            low = midpoint\n",
    "        else:\n",
    "            high = midpoint\n",
    "\n",
    "    return midpoint\n",
    "\n",
    "def f(x):\n",
    "        return x**3-np.cos(x)\n",
    "\n",
    "x = bisect(f, 0, 1)\n",
    "print x, f(x)"
   ]
  },
  {
   "cell_type": "code",
   "execution_count": null,
   "metadata": {
    "collapsed": true
   },
   "outputs": [],
   "source": []
  }
 ],
 "metadata": {
  "anaconda-cloud": {},
  "kernelspec": {
   "display_name": "Python 2",
   "language": "python",
   "name": "python2"
  },
  "language_info": {
   "codemirror_mode": {
    "name": "ipython",
    "version": 2
   },
   "file_extension": ".py",
   "mimetype": "text/x-python",
   "name": "python",
   "nbconvert_exporter": "python",
   "pygments_lexer": "ipython2",
   "version": "2.7.6"
  }
 },
 "nbformat": 4,
 "nbformat_minor": 2
}
